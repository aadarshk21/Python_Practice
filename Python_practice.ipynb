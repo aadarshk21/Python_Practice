{
 "cells": [
  {
   "cell_type": "code",
   "execution_count": 1,
   "id": "8440e16f",
   "metadata": {},
   "outputs": [
    {
     "name": "stdout",
     "output_type": "stream",
     "text": [
      "hello\n"
     ]
    }
   ],
   "source": [
    "print('hello')"
   ]
  },
  {
   "cell_type": "code",
   "execution_count": 4,
   "id": "c73001da",
   "metadata": {},
   "outputs": [
    {
     "name": "stdout",
     "output_type": "stream",
     "text": [
      "The original string is : Geeksforgeeks\n",
      "The reversed string(using loops) is : skeegrofskeeG\n"
     ]
    }
   ],
   "source": [
    "\n",
    "def reverse(s):\n",
    "    str = \"\"\n",
    "    for i in s:\n",
    "        str = i + str\n",
    "    return str\n",
    "  \n",
    "s = \"Geeksforgeeks\"\n",
    "  \n",
    "print(\"The original string is : \", end=\"\")\n",
    "print(s)\n",
    "  \n",
    "print(\"The reversed string(using loops) is : \", end=\"\")\n",
    "print(reverse(s))"
   ]
  },
  {
   "cell_type": "code",
   "execution_count": 5,
   "id": "e5cc3265",
   "metadata": {},
   "outputs": [
    {
     "name": "stdout",
     "output_type": "stream",
     "text": [
      "true\n",
      "false\n"
     ]
    }
   ],
   "source": [
    "\n",
    "# A school method based Python3 \n",
    "# program to check if a number\n",
    "# is prime\n",
    "  \n",
    "def isPrime(n):\n",
    "  \n",
    "    # Corner case\n",
    "    if n <= 1:\n",
    "        return False\n",
    "  \n",
    "    # Check from 2 to n-1\n",
    "    for i in range(2, n):\n",
    "        if n % i == 0:\n",
    "            return False;\n",
    "  \n",
    "    return True\n",
    "  \n",
    "# Driver Program to test above function\n",
    "print(\"true\") if isPrime(11) else print(\"false\")\n",
    "print(\"true\") if isPrime(14) else print(\"false\")\n",
    "  \n",
    "# This code is contributed by Smitha Dinesh Semwal"
   ]
  },
  {
   "cell_type": "code",
   "execution_count": 6,
   "id": "6fe4feda",
   "metadata": {},
   "outputs": [
    {
     "name": "stdout",
     "output_type": "stream",
     "text": [
      "Maximum is: 5\n",
      "Minimum is: 1\n"
     ]
    }
   ],
   "source": [
    "# python3 code to implement the idea\n",
    " \n",
    "# Function to find the minimum\n",
    "# and maxximum of the array\n",
    " \n",
    " \n",
    "def findMinMax(arr, n):\n",
    " \n",
    "    mini = arr[0]\n",
    "    maxi = arr[0]\n",
    " \n",
    "    for i in range(0, n):\n",
    "        if (arr[i] < mini):\n",
    "            mini = arr[i]\n",
    " \n",
    "        elif (arr[i] > maxi):\n",
    "            maxi = arr[i]\n",
    " \n",
    "    return [mini, maxi]\n",
    " \n",
    " \n",
    "if __name__ == \"__main__\":\n",
    " \n",
    "    arr = [1, 2, 3, 4, 5]\n",
    "    N = len(arr)\n",
    " \n",
    "    # Function Call\n",
    "    ans = findMinMax(arr, N)\n",
    "    print(f\"Maximum is: {ans[1]}\")\n",
    "    print(f\"Minimum is: {ans[0]}\")\n",
    " \n",
    "    # This code is contributed by rakeshsahni"
   ]
  },
  {
   "cell_type": "code",
   "execution_count": 9,
   "id": "e06b47b1",
   "metadata": {},
   "outputs": [
    {
     "name": "stdout",
     "output_type": "stream",
     "text": [
      "Array is a PalinArray\n"
     ]
    }
   ],
   "source": [
    "# Python3 implementation to check\n",
    "# if an array is PalinArray or not\n",
    " \n",
    "# Function to check if palindrome or not\n",
    "def isPalindrome(N):\n",
    "    str1 = \"\" + str(N)\n",
    "    len1 = len(str1)\n",
    "    for i in range(int(len1 / 2)):\n",
    "        if (str1[i] != str1[len1 - 1 - i]):\n",
    "            return False\n",
    "    return True\n",
    " \n",
    "# Function to check\n",
    "# if an array is PalinArray or not\n",
    "def isPalinArray(arr, n):\n",
    "     \n",
    "    # Traversing each element of the array\n",
    "    # and check if it is palindrome or not\n",
    "    for i in range(n):\n",
    "        ans = isPalindrome(arr[i])\n",
    "        if (ans == False):\n",
    "            return False\n",
    "    return True\n",
    "     \n",
    "# Driver code\n",
    "if __name__ == '__main__':\n",
    "     \n",
    "    arr = [ 121, 131, 121 ]\n",
    "     \n",
    "    # length of array\n",
    "    n = len(arr)\n",
    "    res = isPalinArray(arr, n)\n",
    "    if (res == True):\n",
    "        print(\"Array is a PalinArray\")\n",
    "    else:\n",
    "        print(\"Array is not a PalinArray\")\n",
    " \n",
    "# This code is contributed by PrinciRaj1992"
   ]
  },
  {
   "cell_type": "code",
   "execution_count": 8,
   "id": "5e96969d",
   "metadata": {},
   "outputs": [
    {
     "data": {
      "text/plain": [
       "'1'"
      ]
     },
     "execution_count": 8,
     "metadata": {},
     "output_type": "execute_result"
    }
   ],
   "source": [
    "str(1)"
   ]
  },
  {
   "cell_type": "code",
   "execution_count": 10,
   "id": "4b9ef69d",
   "metadata": {},
   "outputs": [
    {
     "name": "stdout",
     "output_type": "stream",
     "text": [
      "34\n"
     ]
    }
   ],
   "source": [
    "\n",
    "# Fibonacci series using recursion\n",
    "def fibonacci(n):\n",
    "    if n <= 1:\n",
    "        return n\n",
    "    return fibonacci(n-1) + fibonacci(n-2)\n",
    " \n",
    " \n",
    "if __name__ == \"__main__\":\n",
    "    n = 9\n",
    "    print(fibonacci(n))\n",
    " \n",
    " # This code is contributed by Manan Tyagi."
   ]
  },
  {
   "cell_type": "code",
   "execution_count": 14,
   "id": "2284c6e3",
   "metadata": {},
   "outputs": [
    {
     "name": "stdout",
     "output_type": "stream",
     "text": [
      "0 1 1 2 "
     ]
    }
   ],
   "source": [
    "# python code to print first n fibonacci numbers\n",
    " \n",
    " \n",
    "def fibonacci_numbers(num):\n",
    "    if num == 0:\n",
    "        return 0\n",
    "    elif num == 1:\n",
    "        return 1\n",
    "    else:\n",
    "        # printing fibonacci numbers\n",
    "        return fibonacci_numbers(num-2)+fibonacci_numbers(num-1)\n",
    " \n",
    " \n",
    "n = 4\n",
    "for i in range(0, n):\n",
    "    print(fibonacci_numbers(i), end=\" \")\n",
    " \n",
    "   # this code is contributed by gangarajula laxmi"
   ]
  },
  {
   "cell_type": "code",
   "execution_count": 17,
   "id": "5a432c6a",
   "metadata": {},
   "outputs": [
    {
     "name": "stdout",
     "output_type": "stream",
     "text": [
      "[0, 0, 0, 0, 0]\n",
      "4\n"
     ]
    }
   ],
   "source": [
    "# Find Missing Element\n",
    "def findMissing(arr, N):\n",
    "   \n",
    "    # create a list of zeroes\n",
    "    temp = [0] * (N+1)\n",
    "    print(temp)\n",
    " \n",
    "    for i in range(0, N):\n",
    "        temp[arr[i] - 1] = 1\n",
    " \n",
    "    for i in range(0, N+1):\n",
    "        if(temp[i] == 0):\n",
    "            ans = i + 1\n",
    " \n",
    "    print(ans)\n",
    " \n",
    "# Driver code\n",
    "if __name__ == '__main__':\n",
    "    arr = [1, 2, 3, 5]\n",
    "    N = len(arr)\n",
    " \n",
    "    # Function call\n",
    "    findMissing(arr, N)\n",
    " \n",
    "    # This code is contributed by nikhilm2302"
   ]
  },
  {
   "cell_type": "code",
   "execution_count": 18,
   "id": "38dcf3f4",
   "metadata": {},
   "outputs": [
    {
     "name": "stdout",
     "output_type": "stream",
     "text": [
      "4\n"
     ]
    }
   ],
   "source": [
    "\n",
    "# Function to get the missing number\n",
    "def getMissingNo(a, n):\n",
    "    i, total = 0, 1\n",
    " \n",
    "    for i in range(2, n + 2):\n",
    "        total += i\n",
    "        total -= a[i - 2]\n",
    "    return total\n",
    " \n",
    " \n",
    "# Driver Code\n",
    "if __name__ == '__main__':\n",
    "    arr = [1, 2, 3, 5]\n",
    "    N = len(arr)\n",
    " \n",
    "    # Function call\n",
    "    print(getMissingNo(arr, N))\n",
    " \n",
    "# This code is contributed by Mohit kumar"
   ]
  },
  {
   "cell_type": "code",
   "execution_count": 19,
   "id": "b0dbd0ef",
   "metadata": {},
   "outputs": [],
   "source": [
    "import os"
   ]
  },
  {
   "cell_type": "code",
   "execution_count": 21,
   "id": "d2702b7e",
   "metadata": {},
   "outputs": [
    {
     "data": {
      "text/plain": [
       "'C:\\\\Users\\\\ASUS\\\\OneDrive - IIT Kanpur\\\\01-PLACEMENT\\\\3-Preperation material\\\\The Int\\\\PROJECTS\\\\Exploratory-Data-Analysis-using-pandas-in-Banking-main\\\\Exploratory-Data-Analysis-using-pandas-in-Banking-main'"
      ]
     },
     "execution_count": 21,
     "metadata": {},
     "output_type": "execute_result"
    }
   ],
   "source": [
    "os.getcwd()"
   ]
  },
  {
   "cell_type": "code",
   "execution_count": null,
   "id": "49e1b972",
   "metadata": {},
   "outputs": [],
   "source": []
  }
 ],
 "metadata": {
  "kernelspec": {
   "display_name": "Python 3 (ipykernel)",
   "language": "python",
   "name": "python3"
  },
  "language_info": {
   "codemirror_mode": {
    "name": "ipython",
    "version": 3
   },
   "file_extension": ".py",
   "mimetype": "text/x-python",
   "name": "python",
   "nbconvert_exporter": "python",
   "pygments_lexer": "ipython3",
   "version": "3.10.7"
  }
 },
 "nbformat": 4,
 "nbformat_minor": 5
}
